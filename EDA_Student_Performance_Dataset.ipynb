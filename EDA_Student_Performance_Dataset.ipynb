{
  "nbformat": 4,
  "nbformat_minor": 0,
  "metadata": {
    "colab": {
      "provenance": [],
      "authorship_tag": "ABX9TyPPuB4zKfa+UicJknj2+O2G",
      "include_colab_link": true
    },
    "kernelspec": {
      "name": "python3",
      "display_name": "Python 3"
    },
    "language_info": {
      "name": "python"
    }
  },
  "cells": [
    {
      "cell_type": "markdown",
      "metadata": {
        "id": "view-in-github",
        "colab_type": "text"
      },
      "source": [
        "<a href=\"https://colab.research.google.com/github/RidhimaJain/StudentPerformance-EDA/blob/main/EDA_Student_Performance_Dataset.ipynb\" target=\"_parent\"><img src=\"https://colab.research.google.com/assets/colab-badge.svg\" alt=\"Open In Colab\"/></a>"
      ]
    },
    {
      "cell_type": "markdown",
      "source": [
        "# **Project Tite: Exploratory Data Analysis On Student Performance Dataset**\n",
        "\n",
        "This dataset contains' demographics, test preparation status and exam scores. The purpose of this analysis is to explore the factors influencing student academic performance and generate insights to support educational improvements.\n",
        "\n",
        "We hypothesize that:\n",
        "\n",
        "- Students who complete the test preparation course will have higher exam scores than those who do not.\n",
        "- The completion of test preparation course has a greater impact on math scores than on reading or writing scores.\n",
        "- There is no significant difference in test preparation completion rates among different gender or ethnicity groups.\n",
        "- Math scores are positively correlated with reading and writing scores.\n",
        "- Students from parents with higher levels of education will perform better in math, reading, and writing exams.\n",
        "- Female students will score higher than male students in reading and writing exams.\n",
        "- Students who receive the standard lunch (versus free/reduced lunch) will have higher academic scores.\n",
        "- There are significant differences in exam scores among different race/ethnicity groups.\n",
        "\n",
        "This analysis will be useful for educators, school administrators, and policymakers looking to enhance student success.\n",
        "\n",
        "\n"
      ],
      "metadata": {
        "id": "E2C-suA95mcf"
      }
    },
    {
      "cell_type": "markdown",
      "source": [
        "# **Dataset Description:**\n",
        "This dataset contains information on students’ demographic background, test preparation, and academic performance. The main variables include:\n",
        "\n",
        "- **Gender:** Male or Female  \n",
        "- **Race/Ethnicity:** Student’s ethnic group  \n",
        "- **Parents' Level of Education:** Highest education level achieved by parents (e.g., high school, bachelor's degree)  \n",
        "- **Lunch:** Type of lunch the student receives (standard or free/reduced)  \n",
        "- **Test Preparation Course:** Whether the student completed a test preparation course (completed or none)  \n",
        "- **Math Score:** Score obtained in the math exam (0-100)  \n",
        "- **Reading Score:** Score obtained in the reading exam (0-100)  \n",
        "- **Writing Score:** Score obtained in the writing exam (0-100)\n",
        "\n",
        "These variables help us analyze how different factors relate to student academic performance."
      ],
      "metadata": {
        "id": "9MfKmjbxPT8t"
      }
    }
  ]
}